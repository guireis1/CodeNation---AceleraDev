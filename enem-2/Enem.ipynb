{
 "cells": [
  {
   "cell_type": "code",
   "execution_count": 1,
   "metadata": {
    "Collapsed": "false"
   },
   "outputs": [
    {
     "name": "stdout",
     "output_type": "stream",
     "text": [
      "Populating the interactive namespace from numpy and matplotlib\n"
     ]
    }
   ],
   "source": [
    "import pandas as pd\n",
    "import numpy as np\n",
    "import matplotlib.pyplot as plt\n",
    "import seaborn as sns\n",
    "from sklearn.model_selection import train_test_split\n",
    "from xgboost import XGBRegressor\n",
    "%pylab inline\n",
    "%matplotlib inline"
   ]
  },
  {
   "cell_type": "code",
   "execution_count": 2,
   "metadata": {
    "Collapsed": "false"
   },
   "outputs": [],
   "source": [
    "data=pd.read_csv('train.csv')"
   ]
  },
  {
   "cell_type": "code",
   "execution_count": 3,
   "metadata": {
    "Collapsed": "false"
   },
   "outputs": [],
   "source": [
    "test=pd.read_csv('test.csv')"
   ]
  },
  {
   "cell_type": "code",
   "execution_count": 4,
   "metadata": {
    "Collapsed": "false"
   },
   "outputs": [],
   "source": [
    "variaveis=[]\n",
    "for i in test:\n",
    "    variaveis.append(i)\n",
    "variaveis.append('NU_NOTA_MT')"
   ]
  },
  {
   "cell_type": "code",
   "execution_count": 5,
   "metadata": {
    "Collapsed": "false"
   },
   "outputs": [],
   "source": [
    "xdata=data[variaveis]"
   ]
  },
  {
   "cell_type": "code",
   "execution_count": 6,
   "metadata": {
    "Collapsed": "false"
   },
   "outputs": [
    {
     "data": {
      "text/html": [
       "<div>\n",
       "<style scoped>\n",
       "    .dataframe tbody tr th:only-of-type {\n",
       "        vertical-align: middle;\n",
       "    }\n",
       "\n",
       "    .dataframe tbody tr th {\n",
       "        vertical-align: top;\n",
       "    }\n",
       "\n",
       "    .dataframe thead th {\n",
       "        text-align: right;\n",
       "    }\n",
       "</style>\n",
       "<table border=\"1\" class=\"dataframe\">\n",
       "  <thead>\n",
       "    <tr style=\"text-align: right;\">\n",
       "      <th></th>\n",
       "      <th>Total</th>\n",
       "      <th>Percent</th>\n",
       "    </tr>\n",
       "  </thead>\n",
       "  <tbody>\n",
       "    <tr>\n",
       "      <th>TP_DEPENDENCIA_ADM_ESC</th>\n",
       "      <td>9448</td>\n",
       "      <td>0.688128</td>\n",
       "    </tr>\n",
       "    <tr>\n",
       "      <th>TP_ENSINO</th>\n",
       "      <td>9448</td>\n",
       "      <td>0.688128</td>\n",
       "    </tr>\n",
       "    <tr>\n",
       "      <th>Q027</th>\n",
       "      <td>7373</td>\n",
       "      <td>0.536999</td>\n",
       "    </tr>\n",
       "    <tr>\n",
       "      <th>NU_NOTA_MT</th>\n",
       "      <td>3597</td>\n",
       "      <td>0.261981</td>\n",
       "    </tr>\n",
       "    <tr>\n",
       "      <th>NU_NOTA_COMP5</th>\n",
       "      <td>3597</td>\n",
       "      <td>0.261981</td>\n",
       "    </tr>\n",
       "    <tr>\n",
       "      <th>NU_NOTA_LC</th>\n",
       "      <td>3597</td>\n",
       "      <td>0.261981</td>\n",
       "    </tr>\n",
       "    <tr>\n",
       "      <th>TP_STATUS_REDACAO</th>\n",
       "      <td>3597</td>\n",
       "      <td>0.261981</td>\n",
       "    </tr>\n",
       "    <tr>\n",
       "      <th>NU_NOTA_COMP2</th>\n",
       "      <td>3597</td>\n",
       "      <td>0.261981</td>\n",
       "    </tr>\n",
       "    <tr>\n",
       "      <th>NU_NOTA_COMP3</th>\n",
       "      <td>3597</td>\n",
       "      <td>0.261981</td>\n",
       "    </tr>\n",
       "    <tr>\n",
       "      <th>NU_NOTA_COMP4</th>\n",
       "      <td>3597</td>\n",
       "      <td>0.261981</td>\n",
       "    </tr>\n",
       "    <tr>\n",
       "      <th>NU_NOTA_COMP1</th>\n",
       "      <td>3597</td>\n",
       "      <td>0.261981</td>\n",
       "    </tr>\n",
       "    <tr>\n",
       "      <th>NU_NOTA_REDACAO</th>\n",
       "      <td>3597</td>\n",
       "      <td>0.261981</td>\n",
       "    </tr>\n",
       "    <tr>\n",
       "      <th>NU_NOTA_CH</th>\n",
       "      <td>3389</td>\n",
       "      <td>0.246832</td>\n",
       "    </tr>\n",
       "    <tr>\n",
       "      <th>NU_NOTA_CN</th>\n",
       "      <td>3389</td>\n",
       "      <td>0.246832</td>\n",
       "    </tr>\n",
       "    <tr>\n",
       "      <th>TP_ESCOLA</th>\n",
       "      <td>0</td>\n",
       "      <td>0.000000</td>\n",
       "    </tr>\n",
       "    <tr>\n",
       "      <th>IN_SURDEZ</th>\n",
       "      <td>0</td>\n",
       "      <td>0.000000</td>\n",
       "    </tr>\n",
       "    <tr>\n",
       "      <th>IN_CEGUEIRA</th>\n",
       "      <td>0</td>\n",
       "      <td>0.000000</td>\n",
       "    </tr>\n",
       "    <tr>\n",
       "      <th>IN_BAIXA_VISAO</th>\n",
       "      <td>0</td>\n",
       "      <td>0.000000</td>\n",
       "    </tr>\n",
       "    <tr>\n",
       "      <th>CO_UF_RESIDENCIA</th>\n",
       "      <td>0</td>\n",
       "      <td>0.000000</td>\n",
       "    </tr>\n",
       "    <tr>\n",
       "      <th>IN_TREINEIRO</th>\n",
       "      <td>0</td>\n",
       "      <td>0.000000</td>\n",
       "    </tr>\n",
       "  </tbody>\n",
       "</table>\n",
       "</div>"
      ],
      "text/plain": [
       "                        Total   Percent\n",
       "TP_DEPENDENCIA_ADM_ESC   9448  0.688128\n",
       "TP_ENSINO                9448  0.688128\n",
       "Q027                     7373  0.536999\n",
       "NU_NOTA_MT               3597  0.261981\n",
       "NU_NOTA_COMP5            3597  0.261981\n",
       "NU_NOTA_LC               3597  0.261981\n",
       "TP_STATUS_REDACAO        3597  0.261981\n",
       "NU_NOTA_COMP2            3597  0.261981\n",
       "NU_NOTA_COMP3            3597  0.261981\n",
       "NU_NOTA_COMP4            3597  0.261981\n",
       "NU_NOTA_COMP1            3597  0.261981\n",
       "NU_NOTA_REDACAO          3597  0.261981\n",
       "NU_NOTA_CH               3389  0.246832\n",
       "NU_NOTA_CN               3389  0.246832\n",
       "TP_ESCOLA                   0  0.000000\n",
       "IN_SURDEZ                   0  0.000000\n",
       "IN_CEGUEIRA                 0  0.000000\n",
       "IN_BAIXA_VISAO              0  0.000000\n",
       "CO_UF_RESIDENCIA            0  0.000000\n",
       "IN_TREINEIRO                0  0.000000"
      ]
     },
     "execution_count": 6,
     "metadata": {},
     "output_type": "execute_result"
    }
   ],
   "source": [
    "total = xdata.isnull().sum().sort_values(ascending=False)\n",
    "percent = (xdata.isnull().sum()/xdata.isnull().count()).sort_values(ascending=False)\n",
    "missing_data = pd.concat([total, percent], axis=1, keys=['Total', 'Percent'])\n",
    "missing_data.head(20)"
   ]
  },
  {
   "cell_type": "code",
   "execution_count": 7,
   "metadata": {
    "Collapsed": "false"
   },
   "outputs": [
    {
     "data": {
      "text/plain": [
       "count    10133.000000\n",
       "mean       482.497928\n",
       "std         99.826323\n",
       "min          0.000000\n",
       "25%        408.900000\n",
       "50%        461.200000\n",
       "75%        537.600000\n",
       "max        952.000000\n",
       "Name: NU_NOTA_MT, dtype: float64"
      ]
     },
     "execution_count": 7,
     "metadata": {},
     "output_type": "execute_result"
    }
   ],
   "source": [
    "xdata['NU_NOTA_MT'].describe()"
   ]
  },
  {
   "cell_type": "code",
   "execution_count": 8,
   "metadata": {
    "Collapsed": "false"
   },
   "outputs": [
    {
     "data": {
      "text/plain": [
       "<matplotlib.axes._subplots.AxesSubplot at 0x7f3e74e9e0d0>"
      ]
     },
     "execution_count": 8,
     "metadata": {},
     "output_type": "execute_result"
    },
    {
     "data": {
      "image/png": "[encoded data removed]",
      "text/plain": [
       "<Figure size 432x288 with 1 Axes>"
      ]
     },
     "metadata": {
      "needs_background": "light"
     },
     "output_type": "display_data"
    },
    {
     "data": {
      "image/png": "[encoded data removed]",
      "text/plain": [
       "<Figure size 432x288 with 1 Axes>"
      ]
     },
     "metadata": {
      "needs_background": "light"
     },
     "output_type": "display_data"
    },
    {
     "data": {
      "image/png": "[encoded data removed]",
      "text/plain": [
       "<Figure size 432x288 with 1 Axes>"
      ]
     },
     "metadata": {
      "needs_background": "light"
     },
     "output_type": "display_data"
    },
    {
     "data": {
      "image/png": "[encoded data removed]",
      "text/plain": [
       "<Figure size 432x288 with 1 Axes>"
      ]
     },
     "metadata": {
      "needs_background": "light"
     },
     "output_type": "display_data"
    }
   ],
   "source": [
    "xdata.plot.scatter(x='NU_NOTA_CN', y='NU_NOTA_MT')\n",
    "xdata.plot.scatter(x='NU_NOTA_CH', y='NU_NOTA_MT')\n",
    "xdata.plot.scatter(x='NU_NOTA_LC', y='NU_NOTA_MT')\n",
    "xdata.plot.scatter(x='NU_NOTA_REDACAO', y='NU_NOTA_MT')"
   ]
  },
  {
   "cell_type": "markdown",
   "metadata": {
    "Collapsed": "false"
   },
   "source": [
    "Vendo as correlações"
   ]
  },
  {
   "cell_type": "code",
   "execution_count": 9,
   "metadata": {
    "Collapsed": "false"
   },
   "outputs": [
    {
     "data": {
      "text/plain": [
       "TP_LINGUA                -0.201726\n",
       "TP_COR_RACA              -0.157364\n",
       "TP_ST_CONCLUSAO          -0.087869\n",
       "TP_ENSINO                -0.086353\n",
       "NU_IDADE                 -0.061485\n",
       "TP_STATUS_REDACAO        -0.059376\n",
       "TP_NACIONALIDADE         -0.034965\n",
       "IN_TREINEIRO             -0.022287\n",
       "IN_SABATISTA             -0.016459\n",
       "IN_SURDEZ                -0.015249\n",
       "IN_IDOSO                 -0.011336\n",
       "IN_GESTANTE              -0.000945\n",
       "IN_BAIXA_VISAO            0.000685\n",
       "IN_DISLEXIA               0.001453\n",
       "TP_PRESENCA_CN            0.003552\n",
       "TP_PRESENCA_CH            0.003552\n",
       "IN_DISCALCULIA            0.009813\n",
       "TP_ANO_CONCLUIU           0.029039\n",
       "TP_ESCOLA                 0.069304\n",
       "CO_UF_RESIDENCIA          0.107493\n",
       "NU_NOTA_COMP1             0.299402\n",
       "NU_NOTA_COMP2             0.335638\n",
       "NU_NOTA_COMP4             0.342282\n",
       "NU_NOTA_COMP5             0.343337\n",
       "NU_NOTA_COMP3             0.350307\n",
       "TP_DEPENDENCIA_ADM_ESC    0.373233\n",
       "NU_NOTA_REDACAO           0.379376\n",
       "NU_NOTA_LC                0.494695\n",
       "NU_NOTA_CH                0.529594\n",
       "NU_NOTA_CN                0.584941\n",
       "NU_NOTA_MT                1.000000\n",
       "IN_CEGUEIRA                    NaN\n",
       "TP_PRESENCA_LC                 NaN\n",
       "Name: NU_NOTA_MT, dtype: float64"
      ]
     },
     "execution_count": 9,
     "metadata": {},
     "output_type": "execute_result"
    }
   ],
   "source": [
    "aux = xdata.copy()\n",
    "aux2 = xdata.copy()\n",
    "\n",
    "aux = aux.loc[:, xdata.columns]\n",
    "aux['NU_NOTA_MT'] = aux2.NU_NOTA_MT\n",
    "\n",
    "c = aux.corr()\n",
    "c.NU_NOTA_MT.sort_values()"
   ]
  },
  {
   "cell_type": "code",
   "execution_count": 10,
   "metadata": {
    "Collapsed": "false"
   },
   "outputs": [],
   "source": [
    "new_vector_training = [\n",
    "    'NU_NOTA_COMP1',\n",
    "    'NU_NOTA_COMP2',\n",
    "    'NU_NOTA_COMP4',\n",
    "    'NU_NOTA_COMP5',\n",
    "    'NU_NOTA_COMP3',\n",
    "    'NU_NOTA_REDACAO',\n",
    "    'NU_NOTA_LC',\n",
    "    'NU_NOTA_CH',\n",
    "    'NU_NOTA_CN',\n",
    "    'NU_NOTA_MT'\n",
    "]\n",
    "\n",
    "new_vector_test = [\n",
    "    'NU_INSCRICAO',\n",
    "    'NU_NOTA_COMP1',\n",
    "    'NU_NOTA_COMP2',\n",
    "    'NU_NOTA_COMP4',\n",
    "    'NU_NOTA_COMP5',\n",
    "    'NU_NOTA_COMP3',\n",
    "    'NU_NOTA_REDACAO',\n",
    "    'NU_NOTA_LC',\n",
    "    'NU_NOTA_CH',\n",
    "    'NU_NOTA_CN'\n",
    "]"
   ]
  },
  {
   "cell_type": "code",
   "execution_count": 11,
   "metadata": {
    "Collapsed": "false"
   },
   "outputs": [
    {
     "data": {
      "text/html": [
       "<div>\n",
       "<style scoped>\n",
       "    .dataframe tbody tr th:only-of-type {\n",
       "        vertical-align: middle;\n",
       "    }\n",
       "\n",
       "    .dataframe tbody tr th {\n",
       "        vertical-align: top;\n",
       "    }\n",
       "\n",
       "    .dataframe thead th {\n",
       "        text-align: right;\n",
       "    }\n",
       "</style>\n",
       "<table border=\"1\" class=\"dataframe\">\n",
       "  <thead>\n",
       "    <tr style=\"text-align: right;\">\n",
       "      <th></th>\n",
       "      <th>NU_NOTA_COMP1</th>\n",
       "      <th>NU_NOTA_COMP2</th>\n",
       "      <th>NU_NOTA_COMP4</th>\n",
       "      <th>NU_NOTA_COMP5</th>\n",
       "      <th>NU_NOTA_COMP3</th>\n",
       "      <th>NU_NOTA_REDACAO</th>\n",
       "      <th>NU_NOTA_LC</th>\n",
       "      <th>NU_NOTA_CH</th>\n",
       "      <th>NU_NOTA_CN</th>\n",
       "      <th>NU_NOTA_MT</th>\n",
       "    </tr>\n",
       "  </thead>\n",
       "  <tbody>\n",
       "    <tr>\n",
       "      <th>0</th>\n",
       "      <td>120.0</td>\n",
       "      <td>120.0</td>\n",
       "      <td>80.0</td>\n",
       "      <td>80.0</td>\n",
       "      <td>120.0</td>\n",
       "      <td>520.0</td>\n",
       "      <td>581.2</td>\n",
       "      <td>495.4</td>\n",
       "      <td>436.3</td>\n",
       "      <td>399.4</td>\n",
       "    </tr>\n",
       "    <tr>\n",
       "      <th>1</th>\n",
       "      <td>140.0</td>\n",
       "      <td>120.0</td>\n",
       "      <td>120.0</td>\n",
       "      <td>80.0</td>\n",
       "      <td>120.0</td>\n",
       "      <td>580.0</td>\n",
       "      <td>599.0</td>\n",
       "      <td>544.1</td>\n",
       "      <td>474.5</td>\n",
       "      <td>459.8</td>\n",
       "    </tr>\n",
       "    <tr>\n",
       "      <th>5</th>\n",
       "      <td>120.0</td>\n",
       "      <td>120.0</td>\n",
       "      <td>160.0</td>\n",
       "      <td>100.0</td>\n",
       "      <td>120.0</td>\n",
       "      <td>620.0</td>\n",
       "      <td>410.9</td>\n",
       "      <td>583.2</td>\n",
       "      <td>439.7</td>\n",
       "      <td>364.5</td>\n",
       "    </tr>\n",
       "    <tr>\n",
       "      <th>6</th>\n",
       "      <td>100.0</td>\n",
       "      <td>120.0</td>\n",
       "      <td>120.0</td>\n",
       "      <td>100.0</td>\n",
       "      <td>120.0</td>\n",
       "      <td>560.0</td>\n",
       "      <td>484.5</td>\n",
       "      <td>604.2</td>\n",
       "      <td>420.1</td>\n",
       "      <td>529.2</td>\n",
       "    </tr>\n",
       "    <tr>\n",
       "      <th>7</th>\n",
       "      <td>140.0</td>\n",
       "      <td>120.0</td>\n",
       "      <td>120.0</td>\n",
       "      <td>120.0</td>\n",
       "      <td>120.0</td>\n",
       "      <td>620.0</td>\n",
       "      <td>611.2</td>\n",
       "      <td>625.8</td>\n",
       "      <td>619.6</td>\n",
       "      <td>566.7</td>\n",
       "    </tr>\n",
       "  </tbody>\n",
       "</table>\n",
       "</div>"
      ],
      "text/plain": [
       "   NU_NOTA_COMP1  NU_NOTA_COMP2  NU_NOTA_COMP4  NU_NOTA_COMP5  NU_NOTA_COMP3  \\\n",
       "0          120.0          120.0           80.0           80.0          120.0   \n",
       "1          140.0          120.0          120.0           80.0          120.0   \n",
       "5          120.0          120.0          160.0          100.0          120.0   \n",
       "6          100.0          120.0          120.0          100.0          120.0   \n",
       "7          140.0          120.0          120.0          120.0          120.0   \n",
       "\n",
       "   NU_NOTA_REDACAO  NU_NOTA_LC  NU_NOTA_CH  NU_NOTA_CN  NU_NOTA_MT  \n",
       "0            520.0       581.2       495.4       436.3       399.4  \n",
       "1            580.0       599.0       544.1       474.5       459.8  \n",
       "5            620.0       410.9       583.2       439.7       364.5  \n",
       "6            560.0       484.5       604.2       420.1       529.2  \n",
       "7            620.0       611.2       625.8       619.6       566.7  "
      ]
     },
     "execution_count": 11,
     "metadata": {},
     "output_type": "execute_result"
    }
   ],
   "source": [
    "enemTrain_data = xdata.copy()\n",
    "enemTrain_data = enemTrain_data.loc[:, new_vector_training]\n",
    "enemTrain_data.dropna(subset=['NU_NOTA_MT'], inplace=True)\n",
    "enemTrain_data.head()"
   ]
  },
  {
   "cell_type": "code",
   "execution_count": 12,
   "metadata": {
    "Collapsed": "false"
   },
   "outputs": [],
   "source": [
    "y = enemTrain_data.NU_NOTA_MT\n",
    "X = enemTrain_data.drop(['NU_NOTA_MT'], axis=1)"
   ]
  },
  {
   "cell_type": "code",
   "execution_count": 13,
   "metadata": {
    "Collapsed": "false"
   },
   "outputs": [],
   "source": [
    "enem_validation_data = test.copy()\n",
    "enem_validation_data_1 = enem_validation_data.loc[:, new_vector_test]\n",
    "enem_validation_data_2 = enem_validation_data.loc[:, new_vector_test]"
   ]
  },
  {
   "cell_type": "code",
   "execution_count": 14,
   "metadata": {
    "Collapsed": "false"
   },
   "outputs": [],
   "source": [
    "enem_train_X, enem_validation_X, enem_train_y, enem_validation_y = train_test_split(X, y, random_state = 0)"
   ]
  },
  {
   "cell_type": "code",
   "execution_count": 15,
   "metadata": {
    "Collapsed": "false"
   },
   "outputs": [
    {
     "data": {
      "text/plain": [
       "XGBRegressor(base_score=0.5, booster='gbtree', colsample_bylevel=1,\n",
       "             colsample_bynode=1, colsample_bytree=1, gamma=0, gpu_id=-1,\n",
       "             importance_type='gain', interaction_constraints='',\n",
       "             learning_rate=0.1, max_delta_step=0, max_depth=6,\n",
       "             min_child_weight=1, missing=nan, monotone_constraints='()',\n",
       "             n_estimators=200, n_jobs=0, num_parallel_tree=1,\n",
       "             objective='reg:squarederror', random_state=0, reg_alpha=0,\n",
       "             reg_lambda=1, scale_pos_weight=1, subsample=1, tree_method='exact',\n",
       "             validate_parameters=1, verbosity=None)"
      ]
     },
     "execution_count": 15,
     "metadata": {},
     "output_type": "execute_result"
    }
   ],
   "source": [
    "model = XGBRegressor(n_estimators=200, learning_rate=0.1)\n",
    "model.fit(enem_train_X, enem_train_y, early_stopping_rounds=5, eval_set=[(enem_validation_X, enem_validation_y)], verbose=False)"
   ]
  },
  {
   "cell_type": "code",
   "execution_count": 16,
   "metadata": {
    "Collapsed": "false"
   },
   "outputs": [],
   "source": [
    "enem_validation_data_1.drop(['NU_INSCRICAO'], axis=1, inplace=True)"
   ]
  },
  {
   "cell_type": "code",
   "execution_count": 17,
   "metadata": {
    "Collapsed": "false"
   },
   "outputs": [],
   "source": [
    "predicted_nota = model.predict(enem_validation_data_1)\n",
    "result_df = pd.DataFrame({'NU_INSCRICAO': enem_validation_data_2['NU_INSCRICAO'], 'NU_NOTA_MT': predicted_nota})"
   ]
  },
  {
   "cell_type": "code",
   "execution_count": 18,
   "metadata": {
    "Collapsed": "false"
   },
   "outputs": [
    {
     "data": {
      "text/html": [
       "<div>\n",
       "<style scoped>\n",
       "    .dataframe tbody tr th:only-of-type {\n",
       "        vertical-align: middle;\n",
       "    }\n",
       "\n",
       "    .dataframe tbody tr th {\n",
       "        vertical-align: top;\n",
       "    }\n",
       "\n",
       "    .dataframe thead th {\n",
       "        text-align: right;\n",
       "    }\n",
       "</style>\n",
       "<table border=\"1\" class=\"dataframe\">\n",
       "  <thead>\n",
       "    <tr style=\"text-align: right;\">\n",
       "      <th></th>\n",
       "      <th>NU_INSCRICAO</th>\n",
       "      <th>NU_NOTA_MT</th>\n",
       "    </tr>\n",
       "  </thead>\n",
       "  <tbody>\n",
       "    <tr>\n",
       "      <th>0</th>\n",
       "      <td>73ff9fcc02f0a99919906c942c2e1a1042cdcf98</td>\n",
       "      <td>422.304169</td>\n",
       "    </tr>\n",
       "    <tr>\n",
       "      <th>1</th>\n",
       "      <td>71a95f9f1b91a82c65ad94abbdf9f54e6066f968</td>\n",
       "      <td>450.262909</td>\n",
       "    </tr>\n",
       "    <tr>\n",
       "      <th>2</th>\n",
       "      <td>b38a03232f43b11c9d0788abaf060f7366053b6d</td>\n",
       "      <td>576.919006</td>\n",
       "    </tr>\n",
       "    <tr>\n",
       "      <th>3</th>\n",
       "      <td>70b682d9a3636be23f6120fa9d6b164eb3c6002d</td>\n",
       "      <td>44.465439</td>\n",
       "    </tr>\n",
       "    <tr>\n",
       "      <th>4</th>\n",
       "      <td>715494628a50142ce8cb17191cfe6d0f3cae0934</td>\n",
       "      <td>547.173340</td>\n",
       "    </tr>\n",
       "  </tbody>\n",
       "</table>\n",
       "</div>"
      ],
      "text/plain": [
       "                               NU_INSCRICAO  NU_NOTA_MT\n",
       "0  73ff9fcc02f0a99919906c942c2e1a1042cdcf98  422.304169\n",
       "1  71a95f9f1b91a82c65ad94abbdf9f54e6066f968  450.262909\n",
       "2  b38a03232f43b11c9d0788abaf060f7366053b6d  576.919006\n",
       "3  70b682d9a3636be23f6120fa9d6b164eb3c6002d   44.465439\n",
       "4  715494628a50142ce8cb17191cfe6d0f3cae0934  547.173340"
      ]
     },
     "execution_count": 18,
     "metadata": {},
     "output_type": "execute_result"
    }
   ],
   "source": [
    "result_df.head()"
   ]
  },
  {
   "cell_type": "code",
   "execution_count": 19,
   "metadata": {
    "Collapsed": "false"
   },
   "outputs": [
    {
     "data": {
      "text/plain": [
       "False"
      ]
     },
     "execution_count": 19,
     "metadata": {},
     "output_type": "execute_result"
    }
   ],
   "source": [
    "result_df.isnull().any().any()"
   ]
  },
  {
   "cell_type": "code",
   "execution_count": 20,
   "metadata": {
    "Collapsed": "false"
   },
   "outputs": [],
   "source": [
    "result_df_final = result_df.loc[: , ['NU_INSCRICAO', 'NU_NOTA_MT']]\n",
    "result_df.to_csv('answer.csv', index=False)"
   ]
  },
  {
   "cell_type": "code",
   "execution_count": null,
   "metadata": {
    "Collapsed": "false"
   },
   "outputs": [],
   "source": []
  }
 ],
 "metadata": {
  "kernelspec": {
   "display_name": "Python 3",
   "language": "python",
   "name": "python3"
  },
  "language_info": {
   "codemirror_mode": {
    "name": "ipython",
    "version": 3
   },
   "file_extension": ".py",
   "mimetype": "text/x-python",
   "name": "python",
   "nbconvert_exporter": "python",
   "pygments_lexer": "ipython3",
   "version": "3.7.6"
  }
 },
 "nbformat": 4,
 "nbformat_minor": 4
}
