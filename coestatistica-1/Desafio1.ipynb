{
 "cells": [
  {
   "cell_type": "code",
   "execution_count": 2,
   "metadata": {
    "Collapsed": "false"
   },
   "outputs": [],
   "source": [
    "import seaborn as sns\n",
    "import pandas as pd\n",
    "import numpy as np"
   ]
  },
  {
   "cell_type": "code",
   "execution_count": 3,
   "metadata": {
    "Collapsed": "false"
   },
   "outputs": [],
   "source": [
    "data=pd.read_csv('desafio1.csv')"
   ]
  },
  {
   "cell_type": "code",
   "execution_count": 4,
   "metadata": {
    "Collapsed": "false"
   },
   "outputs": [
    {
     "data": {
      "text/html": [
       "<div>\n",
       "<style scoped>\n",
       "    .dataframe tbody tr th:only-of-type {\n",
       "        vertical-align: middle;\n",
       "    }\n",
       "\n",
       "    .dataframe tbody tr th {\n",
       "        vertical-align: top;\n",
       "    }\n",
       "\n",
       "    .dataframe thead th {\n",
       "        text-align: right;\n",
       "    }\n",
       "</style>\n",
       "<table border=\"1\" class=\"dataframe\">\n",
       "  <thead>\n",
       "    <tr style=\"text-align: right;\">\n",
       "      <th></th>\n",
       "      <th>RowNumber</th>\n",
       "      <th>id</th>\n",
       "      <th>sobrenome</th>\n",
       "      <th>pontuacao_credito</th>\n",
       "      <th>estado_residencia</th>\n",
       "      <th>genero</th>\n",
       "      <th>idade</th>\n",
       "      <th>nivel_estabilidade</th>\n",
       "      <th>saldo_conta</th>\n",
       "      <th>numero_produtos</th>\n",
       "      <th>possui_cartao_de_credito</th>\n",
       "      <th>membro_ativo</th>\n",
       "    </tr>\n",
       "  </thead>\n",
       "  <tbody>\n",
       "    <tr>\n",
       "      <th>0</th>\n",
       "      <td>1</td>\n",
       "      <td>e7f44fcbd380d4cef7e6c232cc7e37895c3fd197</td>\n",
       "      <td>6d6e0aa1b9b413e442e2fb68df14b4fc3f91de50</td>\n",
       "      <td>619</td>\n",
       "      <td>SC</td>\n",
       "      <td>F</td>\n",
       "      <td>42</td>\n",
       "      <td>2</td>\n",
       "      <td>0.00</td>\n",
       "      <td>1</td>\n",
       "      <td>1</td>\n",
       "      <td>1</td>\n",
       "    </tr>\n",
       "    <tr>\n",
       "      <th>1</th>\n",
       "      <td>2</td>\n",
       "      <td>28dcb083ad90512da16b9430085c2cddb8ca5e12</td>\n",
       "      <td>48e1ad846796fa314f1b4a6702b83343eb5482c5</td>\n",
       "      <td>608</td>\n",
       "      <td>RS</td>\n",
       "      <td>F</td>\n",
       "      <td>41</td>\n",
       "      <td>1</td>\n",
       "      <td>83807.86</td>\n",
       "      <td>1</td>\n",
       "      <td>0</td>\n",
       "      <td>1</td>\n",
       "    </tr>\n",
       "    <tr>\n",
       "      <th>2</th>\n",
       "      <td>3</td>\n",
       "      <td>774bc378f787438c9c7594e536787d07a097a54b</td>\n",
       "      <td>f2b29d5d934de615812b697132e767dea0f1e9e2</td>\n",
       "      <td>502</td>\n",
       "      <td>SC</td>\n",
       "      <td>F</td>\n",
       "      <td>42</td>\n",
       "      <td>8</td>\n",
       "      <td>159660.80</td>\n",
       "      <td>3</td>\n",
       "      <td>1</td>\n",
       "      <td>0</td>\n",
       "    </tr>\n",
       "    <tr>\n",
       "      <th>3</th>\n",
       "      <td>4</td>\n",
       "      <td>043a71326f7096de155e7f0c559dc62b5e4b7239</td>\n",
       "      <td>85d5c9da7cddd8109ad32a6c348fe2bb10bf99f2</td>\n",
       "      <td>699</td>\n",
       "      <td>SC</td>\n",
       "      <td>F</td>\n",
       "      <td>39</td>\n",
       "      <td>1</td>\n",
       "      <td>0.00</td>\n",
       "      <td>2</td>\n",
       "      <td>0</td>\n",
       "      <td>0</td>\n",
       "    </tr>\n",
       "    <tr>\n",
       "      <th>4</th>\n",
       "      <td>5</td>\n",
       "      <td>37b3bb8ca243955fb3605ec7e1c2a4607cdb3b22</td>\n",
       "      <td>ddc89c837a6933639de75f28171057060bd322df</td>\n",
       "      <td>850</td>\n",
       "      <td>RS</td>\n",
       "      <td>F</td>\n",
       "      <td>43</td>\n",
       "      <td>2</td>\n",
       "      <td>125510.82</td>\n",
       "      <td>1</td>\n",
       "      <td>1</td>\n",
       "      <td>1</td>\n",
       "    </tr>\n",
       "  </tbody>\n",
       "</table>\n",
       "</div>"
      ],
      "text/plain": [
       "   RowNumber                                        id  \\\n",
       "0          1  e7f44fcbd380d4cef7e6c232cc7e37895c3fd197   \n",
       "1          2  28dcb083ad90512da16b9430085c2cddb8ca5e12   \n",
       "2          3  774bc378f787438c9c7594e536787d07a097a54b   \n",
       "3          4  043a71326f7096de155e7f0c559dc62b5e4b7239   \n",
       "4          5  37b3bb8ca243955fb3605ec7e1c2a4607cdb3b22   \n",
       "\n",
       "                                  sobrenome  pontuacao_credito  \\\n",
       "0  6d6e0aa1b9b413e442e2fb68df14b4fc3f91de50                619   \n",
       "1  48e1ad846796fa314f1b4a6702b83343eb5482c5                608   \n",
       "2  f2b29d5d934de615812b697132e767dea0f1e9e2                502   \n",
       "3  85d5c9da7cddd8109ad32a6c348fe2bb10bf99f2                699   \n",
       "4  ddc89c837a6933639de75f28171057060bd322df                850   \n",
       "\n",
       "  estado_residencia genero  idade  nivel_estabilidade  saldo_conta  \\\n",
       "0                SC      F     42                   2         0.00   \n",
       "1                RS      F     41                   1     83807.86   \n",
       "2                SC      F     42                   8    159660.80   \n",
       "3                SC      F     39                   1         0.00   \n",
       "4                RS      F     43                   2    125510.82   \n",
       "\n",
       "   numero_produtos  possui_cartao_de_credito  membro_ativo  \n",
       "0                1                         1             1  \n",
       "1                1                         0             1  \n",
       "2                3                         1             0  \n",
       "3                2                         0             0  \n",
       "4                1                         1             1  "
      ]
     },
     "execution_count": 4,
     "metadata": {},
     "output_type": "execute_result"
    }
   ],
   "source": [
    "data.head()"
   ]
  },
  {
   "cell_type": "code",
   "execution_count": 5,
   "metadata": {
    "Collapsed": "false"
   },
   "outputs": [
    {
     "data": {
      "text/plain": [
       "SC    3519\n",
       "RS    1750\n",
       "PR    1731\n",
       "Name: estado_residencia, dtype: int64"
      ]
     },
     "execution_count": 5,
     "metadata": {},
     "output_type": "execute_result"
    }
   ],
   "source": [
    "data['estado_residencia'].value_counts()"
   ]
  },
  {
   "cell_type": "code",
   "execution_count": 10,
   "metadata": {
    "Collapsed": "false"
   },
   "outputs": [],
   "source": [
    "sc=data[data['estado_residencia']=='SC']['pontuacao_credito']"
   ]
  },
  {
   "cell_type": "code",
   "execution_count": 11,
   "metadata": {
    "Collapsed": "false"
   },
   "outputs": [],
   "source": [
    "rs=data[data['estado_residencia']=='RS']['pontuacao_credito']"
   ]
  },
  {
   "cell_type": "code",
   "execution_count": 12,
   "metadata": {
    "Collapsed": "false"
   },
   "outputs": [],
   "source": [
    "pr=data[data['estado_residencia']=='PR']['pontuacao_credito']"
   ]
  },
  {
   "cell_type": "markdown",
   "metadata": {
    "Collapsed": "false"
   },
   "source": [
    "SC:"
   ]
  },
  {
   "cell_type": "code",
   "execution_count": 16,
   "metadata": {
    "Collapsed": "false"
   },
   "outputs": [
    {
     "data": {
      "text/plain": [
       "649.5376527422563"
      ]
     },
     "execution_count": 16,
     "metadata": {},
     "output_type": "execute_result"
    }
   ],
   "source": [
    "sc.mean()"
   ]
  },
  {
   "cell_type": "code",
   "execution_count": 17,
   "metadata": {
    "Collapsed": "false"
   },
   "outputs": [
    {
     "data": {
      "text/plain": [
       "653.0"
      ]
     },
     "execution_count": 17,
     "metadata": {},
     "output_type": "execute_result"
    }
   ],
   "source": [
    "sc.median()"
   ]
  },
  {
   "cell_type": "code",
   "execution_count": 18,
   "metadata": {
    "Collapsed": "false"
   },
   "outputs": [
    {
     "data": {
      "text/plain": [
       "97.23349279343306"
      ]
     },
     "execution_count": 18,
     "metadata": {},
     "output_type": "execute_result"
    }
   ],
   "source": [
    "sc.std()"
   ]
  },
  {
   "cell_type": "code",
   "execution_count": 20,
   "metadata": {
    "Collapsed": "false"
   },
   "outputs": [],
   "source": [
    "from statistics import mode"
   ]
  },
  {
   "cell_type": "code",
   "execution_count": 21,
   "metadata": {
    "Collapsed": "false"
   },
   "outputs": [
    {
     "data": {
      "text/plain": [
       "850"
      ]
     },
     "execution_count": 21,
     "metadata": {},
     "output_type": "execute_result"
    }
   ],
   "source": [
    "mode(sc)"
   ]
  },
  {
   "cell_type": "markdown",
   "metadata": {
    "Collapsed": "false"
   },
   "source": [
    "RS:"
   ]
  },
  {
   "cell_type": "code",
   "execution_count": 23,
   "metadata": {
    "Collapsed": "false"
   },
   "outputs": [
    {
     "data": {
      "text/plain": [
       "651.1051428571428"
      ]
     },
     "execution_count": 23,
     "metadata": {},
     "output_type": "execute_result"
    }
   ],
   "source": [
    "rs.mean()"
   ]
  },
  {
   "cell_type": "code",
   "execution_count": 24,
   "metadata": {
    "Collapsed": "false"
   },
   "outputs": [
    {
     "data": {
      "text/plain": [
       "650.0"
      ]
     },
     "execution_count": 24,
     "metadata": {},
     "output_type": "execute_result"
    }
   ],
   "source": [
    "rs.median()"
   ]
  },
  {
   "cell_type": "code",
   "execution_count": 25,
   "metadata": {
    "Collapsed": "false"
   },
   "outputs": [
    {
     "data": {
      "text/plain": [
       "95.1365984138357"
      ]
     },
     "execution_count": 25,
     "metadata": {},
     "output_type": "execute_result"
    }
   ],
   "source": [
    "rs.std()"
   ]
  },
  {
   "cell_type": "code",
   "execution_count": 26,
   "metadata": {
    "Collapsed": "false"
   },
   "outputs": [
    {
     "data": {
      "text/plain": [
       "850"
      ]
     },
     "execution_count": 26,
     "metadata": {},
     "output_type": "execute_result"
    }
   ],
   "source": [
    "mode(rs)"
   ]
  },
  {
   "cell_type": "markdown",
   "metadata": {
    "Collapsed": "false"
   },
   "source": [
    "PR:"
   ]
  },
  {
   "cell_type": "code",
   "execution_count": 27,
   "metadata": {
    "Collapsed": "false"
   },
   "outputs": [
    {
     "data": {
      "text/plain": [
       "648.9612940496822"
      ]
     },
     "execution_count": 27,
     "metadata": {},
     "output_type": "execute_result"
    }
   ],
   "source": [
    "pr.mean()"
   ]
  },
  {
   "cell_type": "code",
   "execution_count": 28,
   "metadata": {
    "Collapsed": "false"
   },
   "outputs": [
    {
     "data": {
      "text/plain": [
       "650.0"
      ]
     },
     "execution_count": 28,
     "metadata": {},
     "output_type": "execute_result"
    }
   ],
   "source": [
    "pr.median()"
   ]
  },
  {
   "cell_type": "code",
   "execution_count": 29,
   "metadata": {
    "Collapsed": "false"
   },
   "outputs": [
    {
     "data": {
      "text/plain": [
       "98.60718591309772"
      ]
     },
     "execution_count": 29,
     "metadata": {},
     "output_type": "execute_result"
    }
   ],
   "source": [
    "pr.std()"
   ]
  },
  {
   "cell_type": "code",
   "execution_count": 30,
   "metadata": {
    "Collapsed": "false"
   },
   "outputs": [
    {
     "data": {
      "text/plain": [
       "850"
      ]
     },
     "execution_count": 30,
     "metadata": {},
     "output_type": "execute_result"
    }
   ],
   "source": [
    "mode(pr)"
   ]
  },
  {
   "cell_type": "code",
   "execution_count": 32,
   "metadata": {
    "Collapsed": "false"
   },
   "outputs": [],
   "source": [
    "import json"
   ]
  },
  {
   "cell_type": "code",
   "execution_count": 34,
   "metadata": {
    "Collapsed": "false"
   },
   "outputs": [],
   "source": [
    "with open(\"submission.json\", \"r\") as read_file:\n",
    "    data = json.load(read_file)"
   ]
  },
  {
   "cell_type": "code",
   "execution_count": 35,
   "metadata": {
    "Collapsed": "false"
   },
   "outputs": [
    {
     "data": {
      "text/plain": [
       "{'SC': {'moda': 0.0, 'mediana': 0.0, 'media': 0.0, 'desvio_padrao': 0.0},\n",
       " 'RS': {'moda': 0.0, 'mediana': 0.0, 'media': 0.0, 'desvio_padrao': 0.0},\n",
       " 'PR': {'moda': 0.0, 'mediana': 0.0, 'media': 0.0, 'desvio_padrao': 0.0}}"
      ]
     },
     "execution_count": 35,
     "metadata": {},
     "output_type": "execute_result"
    }
   ],
   "source": [
    "data"
   ]
  },
  {
   "cell_type": "code",
   "execution_count": 36,
   "metadata": {
    "Collapsed": "false"
   },
   "outputs": [],
   "source": [
    "data2={'SC': {'moda': 850, 'mediana': 653, 'media': 649.5376527422563, 'desvio_padrao': 97.23349279343306},\n",
    " 'RS': {'moda': 850, 'mediana': 650, 'media': 651.1051428571428, 'desvio_padrao': 95.1365984138357},\n",
    " 'PR': {'moda': 850, 'mediana': 650, 'media': 648.9612940496822, 'desvio_padrao': 98.60718591309772}}"
   ]
  },
  {
   "cell_type": "code",
   "execution_count": null,
   "metadata": {},
   "outputs": [],
   "source": [
    "with open(\"submission.json\", \"r\") as read_file:\n",
    "    data = json.load(read_file)\n",
    "    "
   ]
  },
  {
   "cell_type": "code",
   "execution_count": 39,
   "metadata": {},
   "outputs": [],
   "source": [
    "with open(\"submission.json\", 'w') as f:\n",
    "    json.dump(data2, f)"
   ]
  },
  {
   "cell_type": "code",
   "execution_count": null,
   "metadata": {},
   "outputs": [],
   "source": []
  }
 ],
 "metadata": {
  "kernelspec": {
   "display_name": "Python 3",
   "language": "python",
   "name": "python3"
  },
  "language_info": {
   "codemirror_mode": {
    "name": "ipython",
    "version": 3
   },
   "file_extension": ".py",
   "mimetype": "text/x-python",
   "name": "python",
   "nbconvert_exporter": "python",
   "pygments_lexer": "ipython3",
   "version": "3.7.4"
  }
 },
 "nbformat": 4,
 "nbformat_minor": 4
}
